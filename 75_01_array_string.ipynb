{
 "cells": [
  {
   "cell_type": "markdown",
   "metadata": {},
   "source": [
    "# 1768. Merge Strings Alternately\n",
    "\n",
    "https://leetcode.com/problems/merge-strings-alternately/description/?envType=study-plan-v2&envId=leetcode-75\n",
    "\n",
    "You are given two strings word1 and word2. Merge the strings by adding letters in alternating order, starting with word1. If a string is longer than the other, append the additional letters onto the end of the merged string.\n",
    "\n",
    "Return the merged string."
   ]
  },
  {
   "cell_type": "code",
   "execution_count": 2,
   "metadata": {},
   "outputs": [],
   "source": [
    "def merageAlternately(word1, word2):\n",
    "    # empty string to store the result\n",
    "    result = ''\n",
    "    # difference between the length of the two strings if they are different\n",
    "    s = max(len(word1), len(word2)) - min(len(word1), len(word2))\n",
    "    # add spaces to the shorter string to make them equal in length\n",
    "    if len(word1) > len(word2):\n",
    "        word2 += ' ' * s\n",
    "    else:\n",
    "        word1 += ' ' * s\n",
    "    # iterate through the strings and add the characters to the result string, unless the character is a space, then it is skipped\n",
    "    for i in range(len(word1)):\n",
    "        result += word1[i] if word1[i] != ' ' else ''\n",
    "        result += word2[i] if word2[i] != ' ' else ''\n",
    "    return result\n"
   ]
  },
  {
   "cell_type": "code",
   "execution_count": 3,
   "metadata": {},
   "outputs": [
    {
     "data": {
      "text/plain": [
       "'apbqcr'"
      ]
     },
     "execution_count": 3,
     "metadata": {},
     "output_type": "execute_result"
    }
   ],
   "source": [
    "word1 = 'abc'\n",
    "word2 = 'pqr'\n",
    "\n",
    "merageAlternately(word1, word2)"
   ]
  },
  {
   "cell_type": "code",
   "execution_count": 4,
   "metadata": {},
   "outputs": [
    {
     "data": {
      "text/plain": [
       "'apbqrs'"
      ]
     },
     "execution_count": 4,
     "metadata": {},
     "output_type": "execute_result"
    }
   ],
   "source": [
    "word1 = 'ab'\n",
    "word2 = 'pqrs'\n",
    "\n",
    "merageAlternately(word1, word2)"
   ]
  },
  {
   "cell_type": "code",
   "execution_count": 5,
   "metadata": {},
   "outputs": [],
   "source": [
    "# Better Solution:\n",
    "# def merageAlternately(word1, word2):\n",
    "#     result = []\n",
    "#     i = 0\n",
    "#     while i < len(word1) or i < len(word2):\n",
    "#         if i < len(word1):\n",
    "#             result.append(word1[i])\n",
    "#         if i < len(word2):\n",
    "#             result.append(word2[i])\n",
    "#         i += 1\n",
    "#     return ''.join(result)"
   ]
  },
  {
   "cell_type": "markdown",
   "metadata": {},
   "source": [
    "# 1071. Greatest Common Divisor of Strings\n",
    "\n",
    "https://leetcode.com/problems/greatest-common-divisor-of-strings/description/?envType=study-plan-v2&envId=leetcode-75\n",
    "\n",
    "For two strings s and t, we say \"t divides s\" if and only if s = t + t + t + ... + t + t (i.e., t is concatenated with itself one or more times).\n",
    "\n",
    "Given two strings str1 and str2, return the largest string x such that x divides both str1 and str2."
   ]
  },
  {
   "cell_type": "code",
   "execution_count": 6,
   "metadata": {},
   "outputs": [],
   "source": [
    "def gcdOfStrings(str1, str2):\n",
    "    # add the two strings to one another to see if they are repeating. If they are not, return an empty string\n",
    "    if str1 + str2 != str2 + str1:\n",
    "        return ''\n",
    "    # if they are repeating, there is a common divisor.\n",
    "    else:\n",
    "        # find the length of the common divisor\n",
    "        for i in range(len(str1), 0, -1):\n",
    "            # if the length of the strings is divisible by the length of the common divisor, return the common divisor\n",
    "            if len(str1) % i == 0 and len(str2) % i == 0:\n",
    "                return str1[:i]"
   ]
  },
  {
   "cell_type": "code",
   "execution_count": 7,
   "metadata": {},
   "outputs": [
    {
     "data": {
      "text/plain": [
       "'ABC'"
      ]
     },
     "execution_count": 7,
     "metadata": {},
     "output_type": "execute_result"
    }
   ],
   "source": [
    "str1 = 'ABCABC'\n",
    "str2 = 'ABC'\n",
    "\n",
    "gcdOfStrings(str1, str2)"
   ]
  },
  {
   "cell_type": "code",
   "execution_count": 8,
   "metadata": {},
   "outputs": [
    {
     "data": {
      "text/plain": [
       "'AB'"
      ]
     },
     "execution_count": 8,
     "metadata": {},
     "output_type": "execute_result"
    }
   ],
   "source": [
    "str1 = 'ABABAB'\n",
    "str2 = 'ABAB'\n",
    "\n",
    "gcdOfStrings(str1, str2)"
   ]
  },
  {
   "cell_type": "code",
   "execution_count": 9,
   "metadata": {},
   "outputs": [
    {
     "data": {
      "text/plain": [
       "''"
      ]
     },
     "execution_count": 9,
     "metadata": {},
     "output_type": "execute_result"
    }
   ],
   "source": [
    "str1 = 'LEET'\n",
    "str2 = 'CODE'\n",
    "\n",
    "gcdOfStrings(str1, str2)"
   ]
  },
  {
   "cell_type": "markdown",
   "metadata": {},
   "source": [
    "# 1431. Kids With the Greatest Number of Candies\n",
    "\n",
    "https://leetcode.com/problems/kids-with-the-greatest-number-of-candies/description/?envType=study-plan-v2&envId=leetcode-75\n",
    "\n",
    "There are n kids with candies. You are given an integer array candies, where each candies[i] represents the number of candies the ith kid has, and an integer extraCandies, denoting the number of extra candies that you have.\n",
    "\n",
    "Return a boolean array result of length n, where result[i] is true if, after giving the ith kid all the extraCandies, they will have the greatest number of candies among all the kids, or false otherwise.\n",
    "\n",
    "Note that multiple kids can have the greatest number of candies."
   ]
  },
  {
   "cell_type": "code",
   "execution_count": 10,
   "metadata": {},
   "outputs": [],
   "source": [
    "def kidswithcandies(candies, extraCandies):\n",
    "    result = [] # empty list to store the result\n",
    "    # find the maximum number of candies in the list\n",
    "    max_candies = max(candies)\n",
    "    # iterate through the list and check if the number of candies plus the extra candies is greater than or equal to the maximum number of candies\n",
    "    for i in range(len(candies)):\n",
    "        if (candies[i] + extraCandies) >= max_candies:\n",
    "            result.append(True)\n",
    "        else:\n",
    "            result.append(False)\n",
    "    return result\n"
   ]
  },
  {
   "cell_type": "code",
   "execution_count": 11,
   "metadata": {},
   "outputs": [
    {
     "data": {
      "text/plain": [
       "[True, True, True, False, True]"
      ]
     },
     "execution_count": 11,
     "metadata": {},
     "output_type": "execute_result"
    }
   ],
   "source": [
    "candies = [2,3,5,1,3]\n",
    "extraCandies = 3\n",
    "\n",
    "kidswithcandies(candies, extraCandies)"
   ]
  },
  {
   "cell_type": "code",
   "execution_count": 12,
   "metadata": {},
   "outputs": [
    {
     "data": {
      "text/plain": [
       "[True, False, False, False, False]"
      ]
     },
     "execution_count": 12,
     "metadata": {},
     "output_type": "execute_result"
    }
   ],
   "source": [
    "candies = [4,2,1,1,2]\n",
    "extraCandies = 1\n",
    "\n",
    "kidswithcandies(candies, extraCandies)"
   ]
  },
  {
   "cell_type": "code",
   "execution_count": 13,
   "metadata": {},
   "outputs": [
    {
     "data": {
      "text/plain": [
       "[True, False, True]"
      ]
     },
     "execution_count": 13,
     "metadata": {},
     "output_type": "execute_result"
    }
   ],
   "source": [
    "candies = [12,1,12]\n",
    "extraCandies = 10\n",
    "\n",
    "kidswithcandies(candies, extraCandies)"
   ]
  },
  {
   "cell_type": "markdown",
   "metadata": {},
   "source": [
    "# 605. Can Place Flowers\n",
    "\n",
    "https://leetcode.com/problems/can-place-flowers/description/?envType=study-plan-v2&envId=leetcode-75\n",
    "\n",
    "You have a long flowerbed in which some of the plots are planted, and some are not. However, flowers cannot be planted in adjacent plots.\n",
    "\n",
    "Given an integer array flowerbed containing 0's and 1's, where 0 means empty and 1 means not empty, and an integer n, return true if n new flowers can be planted in the flowerbed without violating the no-adjacent-flowers rule and false otherwise."
   ]
  },
  {
   "cell_type": "code",
   "execution_count": 14,
   "metadata": {},
   "outputs": [],
   "source": [
    "def canPlaceFlowers(flowerbed, n):\n",
    "    m = 0 #count of planted flowers\n",
    "    f = flowerbed # add zero to the beginning and end of the list\n",
    "    # iterate through the list and check if the current element is 0 and the previous and next elements are 0\n",
    "    for i in range(len(f)):\n",
    "        if f[i] == 0 and (i == 0 or f[i-1] == 0) and (i == len(f) - 1 or f[i+1] == 0):\n",
    "            f[i] = 1 # if it is zero, plant a flower\n",
    "            m += 1 #add one to the count of planted flowers\n",
    "    # if the count of planted flowers is greater than or equal to the number of flowers to be planted, return True\n",
    "    return m >= n"
   ]
  },
  {
   "cell_type": "code",
   "execution_count": 15,
   "metadata": {},
   "outputs": [
    {
     "data": {
      "text/plain": [
       "True"
      ]
     },
     "execution_count": 15,
     "metadata": {},
     "output_type": "execute_result"
    }
   ],
   "source": [
    "flowerbed = [1,0,0,0,1]\n",
    "n = 1\n",
    "\n",
    "canPlaceFlowers(flowerbed, n)"
   ]
  },
  {
   "cell_type": "code",
   "execution_count": 16,
   "metadata": {},
   "outputs": [
    {
     "data": {
      "text/plain": [
       "False"
      ]
     },
     "execution_count": 16,
     "metadata": {},
     "output_type": "execute_result"
    }
   ],
   "source": [
    "flowerbed = [1,0,0,0,1]\n",
    "n = 2\n",
    "\n",
    "canPlaceFlowers(flowerbed, n)"
   ]
  },
  {
   "cell_type": "code",
   "execution_count": 17,
   "metadata": {},
   "outputs": [
    {
     "data": {
      "text/plain": [
       "True"
      ]
     },
     "execution_count": 17,
     "metadata": {},
     "output_type": "execute_result"
    }
   ],
   "source": [
    "flowerbed = [0,0,1,0,1]\n",
    "n = 1\n",
    "\n",
    "canPlaceFlowers(flowerbed, n)"
   ]
  },
  {
   "cell_type": "markdown",
   "metadata": {},
   "source": [
    "# 345. Reverse Vowels of a String\n",
    "\n",
    "https://leetcode.com/problems/reverse-vowels-of-a-string/description/?envType=study-plan-v2&envId=leetcode-75\n",
    "\n",
    "Given a string s, reverse only all the vowels in the string and return it.\n",
    "\n",
    "The vowels are 'a', 'e', 'i', 'o', and 'u', and they can appear in both lower and upper cases, more than once"
   ]
  },
  {
   "cell_type": "code",
   "execution_count": null,
   "metadata": {},
   "outputs": [],
   "source": [
    "def reverseVowels(s):\n",
    "    vowels = 'aeiouAEIOU' #list of vowels\n",
    "    s = list(s)\n",
    "    for i in range(len(s)):\n",
    "        if s[i] in vowels:"
   ]
  },
  {
   "cell_type": "code",
   "execution_count": 19,
   "metadata": {},
   "outputs": [],
   "source": [
    "s = \"IceCreAm\"\n",
    "\n",
    "reverseVowels(s)"
   ]
  },
  {
   "cell_type": "code",
   "execution_count": 20,
   "metadata": {},
   "outputs": [],
   "source": [
    "s = \"leetcode\"\n",
    "\n",
    "reverseVowels(s)"
   ]
  }
 ],
 "metadata": {
  "kernelspec": {
   "display_name": "base",
   "language": "python",
   "name": "python3"
  },
  "language_info": {
   "codemirror_mode": {
    "name": "ipython",
    "version": 3
   },
   "file_extension": ".py",
   "mimetype": "text/x-python",
   "name": "python",
   "nbconvert_exporter": "python",
   "pygments_lexer": "ipython3",
   "version": "3.12.7"
  }
 },
 "nbformat": 4,
 "nbformat_minor": 2
}
