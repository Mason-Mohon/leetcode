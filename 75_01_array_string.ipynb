{
 "cells": [
  {
   "cell_type": "markdown",
   "metadata": {},
   "source": [
    "# 1768. Merge Strings Alternately\n",
    "\n",
    "https://leetcode.com/problems/merge-strings-alternately/description/?envType=study-plan-v2&envId=leetcode-75\n",
    "\n",
    "You are given two strings word1 and word2. Merge the strings by adding letters in alternating order, starting with word1. If a string is longer than the other, append the additional letters onto the end of the merged string.\n",
    "\n",
    "Return the merged string."
   ]
  },
  {
   "cell_type": "code",
   "execution_count": 32,
   "metadata": {},
   "outputs": [],
   "source": [
    "def merageAlternately(word1, word2):\n",
    "    result = ''\n",
    "    s = max(len(word1), len(word2)) - min(len(word1), len(word2))\n",
    "    if len(word1) > len(word2):\n",
    "        word2 += ' ' * s\n",
    "    else:\n",
    "        word1 += ' ' * s\n",
    "    for i in range(len(word1)):\n",
    "        result += word1[i] if word1[i] != ' ' else ''\n",
    "        result += word2[i] if word2[i] != ' ' else ''\n",
    "    return result\n"
   ]
  },
  {
   "cell_type": "code",
   "execution_count": 33,
   "metadata": {},
   "outputs": [
    {
     "data": {
      "text/plain": [
       "'apbqcr'"
      ]
     },
     "execution_count": 33,
     "metadata": {},
     "output_type": "execute_result"
    }
   ],
   "source": [
    "word1 = 'abc'\n",
    "word2 = 'pqr'\n",
    "\n",
    "merageAlternately(word1, word2)"
   ]
  },
  {
   "cell_type": "code",
   "execution_count": 36,
   "metadata": {},
   "outputs": [
    {
     "data": {
      "text/plain": [
       "'apbqrs'"
      ]
     },
     "execution_count": 36,
     "metadata": {},
     "output_type": "execute_result"
    }
   ],
   "source": [
    "word1 = 'ab'\n",
    "word2 = 'pqrs'\n",
    "\n",
    "merageAlternately(word1, word2)"
   ]
  },
  {
   "cell_type": "code",
   "execution_count": 35,
   "metadata": {},
   "outputs": [],
   "source": [
    "def merageAlternately(word1, word2):\n",
    "    result = []\n",
    "    i = 0\n",
    "    while i < len(word1) or i < len(word2):\n",
    "        if i < len(word1):\n",
    "            result.append(word1[i])\n",
    "        if i < len(word2):\n",
    "            result.append(word2[i])\n",
    "        i += 1\n",
    "    return ''.join(result)"
   ]
  },
  {
   "cell_type": "markdown",
   "metadata": {},
   "source": [
    "# 1071. Greatest Common Divisor of Strings\n",
    "\n",
    "https://leetcode.com/problems/greatest-common-divisor-of-strings/description/?envType=study-plan-v2&envId=leetcode-75\n",
    "\n",
    "For two strings s and t, we say \"t divides s\" if and only if s = t + t + t + ... + t + t (i.e., t is concatenated with itself one or more times).\n",
    "\n",
    "Given two strings str1 and str2, return the largest string x such that x divides both str1 and str2."
   ]
  },
  {
   "cell_type": "code",
   "execution_count": null,
   "metadata": {},
   "outputs": [],
   "source": []
  }
 ],
 "metadata": {
  "kernelspec": {
   "display_name": "base",
   "language": "python",
   "name": "python3"
  },
  "language_info": {
   "codemirror_mode": {
    "name": "ipython",
    "version": 3
   },
   "file_extension": ".py",
   "mimetype": "text/x-python",
   "name": "python",
   "nbconvert_exporter": "python",
   "pygments_lexer": "ipython3",
   "version": "3.12.7"
  }
 },
 "nbformat": 4,
 "nbformat_minor": 2
}
